{
 "cells": [
  {
   "cell_type": "code",
   "execution_count": 459,
   "id": "0cbba368",
   "metadata": {},
   "outputs": [],
   "source": [
    "import pandas as pd\n",
    "import numpy as np\n",
    "from sklearn.model_selection import train_test_split\n",
    "from sklearn.preprocessing import OneHotEncoder, OrdinalEncoder\n",
    "\n",
    "import matplotlib.pyplot as plt"
   ]
  },
  {
   "cell_type": "code",
   "execution_count": 460,
   "id": "f782151a",
   "metadata": {},
   "outputs": [],
   "source": [
    "df = pd.read_csv('data/train_data.csv')"
   ]
  },
  {
   "cell_type": "code",
   "execution_count": 461,
   "id": "ec2d17c3",
   "metadata": {},
   "outputs": [],
   "source": [
    "key_columns = ['Gender', 'IsActiveMember', 'Exited', 'Geography', 'NumOfProducts', 'Age']\n",
    "utils_columns = ['Balance', 'Tenure', 'EstimatedSalary', 'CreditScore', 'HasCrCard']"
   ]
  },
  {
   "cell_type": "code",
   "execution_count": 462,
   "id": "b7650293",
   "metadata": {},
   "outputs": [
    {
     "data": {
      "text/html": [
       "<div>\n",
       "<style scoped>\n",
       "    .dataframe tbody tr th:only-of-type {\n",
       "        vertical-align: middle;\n",
       "    }\n",
       "\n",
       "    .dataframe tbody tr th {\n",
       "        vertical-align: top;\n",
       "    }\n",
       "\n",
       "    .dataframe thead th {\n",
       "        text-align: right;\n",
       "    }\n",
       "</style>\n",
       "<table border=\"1\" class=\"dataframe\">\n",
       "  <thead>\n",
       "    <tr style=\"text-align: right;\">\n",
       "      <th></th>\n",
       "      <th>Gender</th>\n",
       "      <th>IsActiveMember</th>\n",
       "      <th>Exited</th>\n",
       "      <th>Geography</th>\n",
       "      <th>NumOfProducts</th>\n",
       "      <th>Age</th>\n",
       "      <th>Balance</th>\n",
       "      <th>Tenure</th>\n",
       "      <th>EstimatedSalary</th>\n",
       "      <th>CreditScore</th>\n",
       "      <th>HasCrCard</th>\n",
       "    </tr>\n",
       "  </thead>\n",
       "  <tbody>\n",
       "    <tr>\n",
       "      <th>0</th>\n",
       "      <td>Male</td>\n",
       "      <td>1.0</td>\n",
       "      <td>0</td>\n",
       "      <td>France</td>\n",
       "      <td>1</td>\n",
       "      <td>28.0</td>\n",
       "      <td>131694.04</td>\n",
       "      <td>7</td>\n",
       "      <td>161205.61</td>\n",
       "      <td>627</td>\n",
       "      <td>1.0</td>\n",
       "    </tr>\n",
       "    <tr>\n",
       "      <th>1</th>\n",
       "      <td>Male</td>\n",
       "      <td>1.0</td>\n",
       "      <td>0</td>\n",
       "      <td>France</td>\n",
       "      <td>2</td>\n",
       "      <td>34.0</td>\n",
       "      <td>0.00</td>\n",
       "      <td>2</td>\n",
       "      <td>181419.29</td>\n",
       "      <td>597</td>\n",
       "      <td>0.0</td>\n",
       "    </tr>\n",
       "    <tr>\n",
       "      <th>2</th>\n",
       "      <td>Male</td>\n",
       "      <td>1.0</td>\n",
       "      <td>0</td>\n",
       "      <td>France</td>\n",
       "      <td>2</td>\n",
       "      <td>39.0</td>\n",
       "      <td>0.00</td>\n",
       "      <td>7</td>\n",
       "      <td>100862.54</td>\n",
       "      <td>724</td>\n",
       "      <td>1.0</td>\n",
       "    </tr>\n",
       "    <tr>\n",
       "      <th>3</th>\n",
       "      <td>Female</td>\n",
       "      <td>0.0</td>\n",
       "      <td>1</td>\n",
       "      <td>Germany</td>\n",
       "      <td>3</td>\n",
       "      <td>56.0</td>\n",
       "      <td>118577.24</td>\n",
       "      <td>5</td>\n",
       "      <td>61164.45</td>\n",
       "      <td>663</td>\n",
       "      <td>1.0</td>\n",
       "    </tr>\n",
       "    <tr>\n",
       "      <th>4</th>\n",
       "      <td>Female</td>\n",
       "      <td>1.0</td>\n",
       "      <td>0</td>\n",
       "      <td>France</td>\n",
       "      <td>2</td>\n",
       "      <td>33.0</td>\n",
       "      <td>0.00</td>\n",
       "      <td>5</td>\n",
       "      <td>103737.82</td>\n",
       "      <td>627</td>\n",
       "      <td>1.0</td>\n",
       "    </tr>\n",
       "  </tbody>\n",
       "</table>\n",
       "</div>"
      ],
      "text/plain": [
       "   Gender  IsActiveMember  Exited Geography  NumOfProducts   Age    Balance  \\\n",
       "0    Male             1.0       0    France              1  28.0  131694.04   \n",
       "1    Male             1.0       0    France              2  34.0       0.00   \n",
       "2    Male             1.0       0    France              2  39.0       0.00   \n",
       "3  Female             0.0       1   Germany              3  56.0  118577.24   \n",
       "4  Female             1.0       0    France              2  33.0       0.00   \n",
       "\n",
       "   Tenure  EstimatedSalary  CreditScore  HasCrCard  \n",
       "0       7        161205.61          627        1.0  \n",
       "1       2        181419.29          597        0.0  \n",
       "2       7        100862.54          724        1.0  \n",
       "3       5         61164.45          663        1.0  \n",
       "4       5        103737.82          627        1.0  "
      ]
     },
     "execution_count": 462,
     "metadata": {},
     "output_type": "execute_result"
    }
   ],
   "source": [
    "df = df[key_columns + utils_columns]\n",
    "df.head()"
   ]
  },
  {
   "cell_type": "markdown",
   "id": "ba76509f",
   "metadata": {},
   "source": [
    "# Pre-processing"
   ]
  },
  {
   "cell_type": "markdown",
   "id": "a8b95adb",
   "metadata": {},
   "source": [
    "### TrainTest - Nettoyage - Encodage"
   ]
  },
  {
   "cell_type": "code",
   "execution_count": 463,
   "id": "640b9f06",
   "metadata": {},
   "outputs": [],
   "source": [
    "trainset, testset = train_test_split(df, test_size=0.2, random_state=0)"
   ]
  },
  {
   "cell_type": "code",
   "execution_count": 464,
   "id": "1604ba7a",
   "metadata": {},
   "outputs": [
    {
     "data": {
      "text/plain": [
       "Exited\n",
       "0    90534\n",
       "1    24329\n",
       "Name: count, dtype: int64"
      ]
     },
     "execution_count": 464,
     "metadata": {},
     "output_type": "execute_result"
    }
   ],
   "source": [
    "trainset['Exited'].value_counts()"
   ]
  },
  {
   "cell_type": "code",
   "execution_count": 465,
   "id": "474386e3",
   "metadata": {},
   "outputs": [
    {
     "data": {
      "text/plain": [
       "Exited\n",
       "0    22595\n",
       "1     6121\n",
       "Name: count, dtype: int64"
      ]
     },
     "execution_count": 465,
     "metadata": {},
     "output_type": "execute_result"
    }
   ],
   "source": [
    "testset['Exited'].value_counts()"
   ]
  },
  {
   "cell_type": "markdown",
   "id": "8149274f",
   "metadata": {},
   "source": [
    "### Outliers"
   ]
  },
  {
   "cell_type": "code",
   "execution_count": 466,
   "id": "2b8ed410",
   "metadata": {},
   "outputs": [],
   "source": [
    "def remove_outliers(df):\n",
    "    list_col_name = ['Age']\n",
    "    for col in list_col_name:\n",
    "        q1 = df[col].quantile(0.25)\n",
    "        q3 = df[col].quantile(0.75)\n",
    "        iqr = q3 - q1\n",
    "\n",
    "        lower_bound = q1 - 1.5 * iqr\n",
    "        upper_bound = q3 + 1.5 * iqr\n",
    "\n",
    "        outliers_df = df.query(f\"{col} < @lower_bound | {col} > @upper_bound\")\n",
    "        df = df.drop(outliers_df.index)\n",
    "\n",
    "    return df\n"
   ]
  },
  {
   "cell_type": "markdown",
   "id": "930a9ac1",
   "metadata": {},
   "source": [
    "### Feature Engineering"
   ]
  },
  {
   "cell_type": "code",
   "execution_count": 467,
   "id": "7c7be05d",
   "metadata": {},
   "outputs": [],
   "source": [
    "def feature_engineering(df):\n",
    "    # df['IsGerman'] = (df['Geography'] == 'Germany').astype(int)\n",
    "\n",
    "    # df[\"NumProductsGroup\"] = np.where(df[\"NumOfProducts\"] == 1, 1,\n",
    "    #                      np.where(df[\"NumOfProducts\"] == 2, 2, 3))\n",
    "    \n",
    "    # df['HasBalance'] = (df['Balance'] > 0).astype(int)\n",
    "\n",
    "    # df[\"AgeGroup\"] = pd.cut(\n",
    "    #     df[\"Age\"],\n",
    "    #     bins=[0, 30, 35, 40, 45, 50, 55, 60, 100],\n",
    "    #     labels=[1, 2, 3, 4, 5, 6, 7, 8]\n",
    "    # ).astype(int)\n",
    "\n",
    "    # df[\"AgeOver39\"] = (df[\"Age\"] > 39).astype(int)\n",
    "\n",
    "    bins = [-np.inf, 0, 50000, 100000, 150000, 200000, np.inf]\n",
    "    labels = [\"Nulle\", \"Faible\", \"Moyen\", \"Normal\", \"Élevé\", \"Très élevé\"]\n",
    "    df[\"BalanceCat\"] = pd.cut(df[\"Balance\"], bins=bins, labels=labels, right=True, include_lowest=True)\n",
    "    df[\"BalanceCat\"] = df[\"BalanceCat\"].astype(pd.CategoricalDtype(categories=labels, ordered=True))\n",
    "\n",
    "    # df[\"is_young_high_income\"] = (df[\"Age\"] < 30) & (df[\"EstimatedSalary\"] > 100000)\n",
    "    df[\"ratio_salary_Age\"] = (df[\"EstimatedSalary\"] +1e-5) / df[\"Age\"]\n",
    "    # df[\"is_active_creditCard\"] = (df[\"HasCrCard\"] == 1) & (df[\"IsActiveMember\"] == 1)\n",
    "\n",
    "    # df[\"IsBalanceZero\"] = (df[\"Balance\"] == 0).astype(int)\n",
    "    # df[\"BalanceToSalary\"] = df[\"Balance\"] / (df[\"EstimatedSalary\"] + 1e-6)\n",
    "    # df[\"IsMultiProd\"] = (df[\"NumOfProducts\"] >= 2).astype(int)\n",
    "\n",
    "        # --- Statuts produits / activité\n",
    "    # df[\"Has4Products\"]  = (df[\"NumOfProducts\"] == 4).astype(int)           # catégorie rare\n",
    "    df[\"Active_x_Multi\"]= ((df[\"IsActiveMember\"]==1) & (df[\"NumOfProducts\"]>=2)).astype(int)\n",
    "\n",
    "    # --- Balance & salaire\n",
    "    # df[\"BalancePerProd\"]  = df[\"Balance\"] / df[\"NumOfProducts\"].clip(lower=1)\n",
    "    # df[\"SalaryPerProd\"]   = df[\"EstimatedSalary\"] / df[\"NumOfProducts\"].clip(lower=1)\n",
    "\n",
    "    # --- Age / Tenure / Credit\n",
    "    # df[\"TenurePerAge\"]  = df[\"Tenure\"] / (df[\"Age\"] + 1e-6)\n",
    "    # df[\"IsSenior\"]      = (df[\"Age\"] >= 60).astype(int)\n",
    "    # df[\"SeniorInactive\"]= ((df[\"Age\"] >= 60) & (df[\"IsActiveMember\"]==0)).astype(int)\n",
    "    # df[\"LowCredit\"]     = (df[\"CreditScore\"] < 600).astype(int)\n",
    "    # df[\"HighCredit\"]    = (df[\"CreditScore\"] >= 750).astype(int)\n",
    "    \n",
    "\n",
    "    return df"
   ]
  },
  {
   "cell_type": "code",
   "execution_count": 468,
   "id": "1ce6dc3e",
   "metadata": {},
   "outputs": [],
   "source": [
    "def imputation(df):\n",
    "    # df = df.drop(columns=[\"Age\", \"Balance\", \"Tenure\", \"NumOfProducts\", \"Geography\", \"HasCrCard\", \"EstimatedSalary\", \"CreditScore\"])\n",
    "    df = df.drop(columns=[\"Age\"])\n",
    "    return df"
   ]
  },
  {
   "cell_type": "code",
   "execution_count": 469,
   "id": "1958d130",
   "metadata": {},
   "outputs": [],
   "source": [
    "def preprocessing(df):\n",
    "    # df = remove_outliers(df)\n",
    "    df = feature_engineering(df)\n",
    "    # df = encodage(df)\n",
    "    # df = imputation(df)\n",
    "    \n",
    "    \n",
    "    X = df.drop('Exited', axis=1)\n",
    "    y = df['Exited']\n",
    "    print(y.value_counts())\n",
    "\n",
    "    return X, y"
   ]
  },
  {
   "cell_type": "code",
   "execution_count": 470,
   "id": "7ed71a90",
   "metadata": {},
   "outputs": [
    {
     "name": "stdout",
     "output_type": "stream",
     "text": [
      "Exited\n",
      "0    90534\n",
      "1    24329\n",
      "Name: count, dtype: int64\n",
      "Exited\n",
      "0    22595\n",
      "1     6121\n",
      "Name: count, dtype: int64\n"
     ]
    }
   ],
   "source": [
    "X_train, y_train = preprocessing(trainset)\n",
    "X_test, y_test= preprocessing(testset)"
   ]
  },
  {
   "cell_type": "markdown",
   "id": "94fcff26",
   "metadata": {},
   "source": [
    "## Modellisation"
   ]
  },
  {
   "cell_type": "code",
   "execution_count": 471,
   "id": "6ea20c07",
   "metadata": {},
   "outputs": [],
   "source": [
    "from sklearn.tree import DecisionTreeClassifier\n",
    "from sklearn.ensemble import RandomForestClassifier, AdaBoostClassifier\n",
    "from sklearn.svm import SVC\n",
    "from sklearn.neighbors import KNeighborsClassifier\n",
    "from sklearn.pipeline import make_pipeline, Pipeline\n",
    "from sklearn.feature_selection import SelectKBest, f_classif\n",
    "from sklearn.preprocessing import PolynomialFeatures, StandardScaler\n",
    "from sklearn.compose import ColumnTransformer\n",
    "from category_encoders import MEstimateEncoder\n",
    "\n",
    "from xgboost import XGBClassifier"
   ]
  },
  {
   "cell_type": "code",
   "execution_count": 472,
   "id": "d5c765ba",
   "metadata": {},
   "outputs": [],
   "source": [
    "# l’ordre que tu as défini pour ta variable catégorisée\n",
    "BALANCE_ORDER = [\"Nulle\", \"Faible\", \"Moyen\", \"Normal\", \"Élevé\", \"Très élevé\"]"
   ]
  },
  {
   "cell_type": "code",
   "execution_count": 473,
   "id": "827b85e0",
   "metadata": {},
   "outputs": [],
   "source": [
    "column_transformer = ColumnTransformer(\n",
    "    transformers=[\n",
    "        # (\"encoder\", OneHotEncoder(sparse_output=False, drop=\"first\", handle_unknown=\"ignore\"), [\"Gender\", \"Geography\"]),\n",
    "        (\"tgt\", MEstimateEncoder(m=10), [\"Gender\", \"Geography\", \"NumOfProducts\"]),\n",
    "        (\"encoderO\", OrdinalEncoder(categories=[BALANCE_ORDER], handle_unknown=\"use_encoded_value\", unknown_value=-1),[\"BalanceCat\"]),\n",
    "        # (\"poly\", PolynomialFeatures(degree=2, include_bias=False), [\"Tenure\", \"EstimatedSalary\", \"CreditScore\", \"Age\"])\n",
    "    ],\n",
    "    remainder=\"passthrough\",                 # garde les autres colonnes telles quelles\n",
    "    verbose_feature_names_out=False,\n",
    "    )"
   ]
  },
  {
   "cell_type": "code",
   "execution_count": 474,
   "id": "3ed6776f",
   "metadata": {},
   "outputs": [],
   "source": [
    "preprocessor = make_pipeline(\n",
    "    column_transformer,\n",
    "    SelectKBest(k=\"all\"),\n",
    ")"
   ]
  },
  {
   "cell_type": "code",
   "execution_count": 475,
   "id": "daaa8bab",
   "metadata": {},
   "outputs": [],
   "source": [
    "RandomForest = Pipeline(steps=[\n",
    "    (\"preprocessor\", preprocessor), \n",
    "    (\"rf\", RandomForestClassifier(random_state=0, n_jobs=4))\n",
    "    ])\n",
    "\n",
    "DecisionTreeC = Pipeline(steps=[\n",
    "    (\"preprocessor\", preprocessor), \n",
    "    (\"decisionTreeClassifier\", DecisionTreeClassifier(random_state=0))\n",
    "    ])\n",
    "AdaBoost = Pipeline(steps=[\n",
    "    (\"preprocessor\", preprocessor), \n",
    "    (\"AdaBoost\", AdaBoostClassifier(random_state=0))\n",
    "    ])\n",
    "KNNe = Pipeline(steps=[\n",
    "    (\"preprocessor\", preprocessor), \n",
    "    (\"scaler\", StandardScaler()),\n",
    "    (\"KNNe\", KNeighborsClassifier())\n",
    "    ])\n",
    "xgb_pipe = Pipeline(steps=[\n",
    "    (\"preprocessor\", preprocessor), \n",
    "    (\"xgb\", XGBClassifier(random_state=0, n_jobs=4))\n",
    "    ])"
   ]
  },
  {
   "cell_type": "code",
   "execution_count": 476,
   "id": "c739afc6",
   "metadata": {},
   "outputs": [],
   "source": [
    "dict_of_models = {#'RandomForest' : RandomForest, \n",
    "                #   'decisionTreeClassifier' : DecisionTreeC,\n",
    "                  'xgb' : xgb_pipe,\n",
    "                #   'AdaBoost' : AdaBoost,\n",
    "                #   'KNN' : KNNe\n",
    "                  }"
   ]
  },
  {
   "cell_type": "markdown",
   "id": "b77aedc6",
   "metadata": {},
   "source": [
    "## Evaluation"
   ]
  },
  {
   "cell_type": "code",
   "execution_count": 477,
   "id": "6805f939",
   "metadata": {},
   "outputs": [],
   "source": [
    "from sklearn.metrics import f1_score, confusion_matrix, classification_report\n",
    "from sklearn.model_selection import learning_curve"
   ]
  },
  {
   "cell_type": "code",
   "execution_count": 478,
   "id": "6f3bb99f",
   "metadata": {},
   "outputs": [],
   "source": [
    "def evaluation(model):\n",
    "    model.fit(X_train, y_train)\n",
    "    ypred = model.predict(X_test)\n",
    "\n",
    "    print(confusion_matrix(y_test, ypred))\n",
    "    print(classification_report(y_test, ypred))\n",
    "    \n",
    "\n",
    "    N, train_score, val_score = learning_curve(model, X_train, y_train, cv=4, scoring='f1', train_sizes=np.linspace(0.1 ,1, 10))\n",
    "\n",
    "    plt.figure(figsize=(12, 8))\n",
    "    plt.plot(N, train_score.mean(axis=1), label='train score')\n",
    "    plt.plot(N, val_score.mean(axis=1), label='validation score')\n",
    "    plt.legend()\n",
    "    "
   ]
  },
  {
   "cell_type": "code",
   "execution_count": 479,
   "id": "7fbaf827",
   "metadata": {},
   "outputs": [],
   "source": [
    "def get_feature_importances(pipeline, step_preprocessor, step_model_name):\n",
    "    step_model_name = pipeline.named_steps[step_model_name]\n",
    "    feature_names = pipeline.named_steps[step_preprocessor].get_feature_names_out()\n",
    "    # Récupérer les importances\n",
    "    importances = step_model_name.feature_importances_\n",
    "    # Mettre dans un DataFrame et tracer\n",
    "    pd.DataFrame(importances, index=feature_names, columns=[\"importance\"]).sort_values(by=\"importance\", ascending=False).plot.bar(figsize=(12,5))"
   ]
  },
  {
   "cell_type": "code",
   "execution_count": 480,
   "id": "1fedd0d3",
   "metadata": {},
   "outputs": [
    {
     "name": "stdout",
     "output_type": "stream",
     "text": [
      "xgb\n",
      "[[21315  1280]\n",
      " [ 2726  3395]]\n",
      "              precision    recall  f1-score   support\n",
      "\n",
      "           0       0.89      0.94      0.91     22595\n",
      "           1       0.73      0.55      0.63      6121\n",
      "\n",
      "    accuracy                           0.86     28716\n",
      "   macro avg       0.81      0.75      0.77     28716\n",
      "weighted avg       0.85      0.86      0.85     28716\n",
      "\n"
     ]
    },
    {
     "data": {
      "image/png": "[encoded data removed]",
      "text/plain": [
       "<Figure size 1200x800 with 1 Axes>"
      ]
     },
     "metadata": {},
     "output_type": "display_data"
    }
   ],
   "source": [
    "for name, model in dict_of_models.items():\n",
    "    print(name)\n",
    "    evaluation(model)\n"
   ]
  },
  {
   "cell_type": "code",
   "execution_count": 481,
   "id": "fd99ae60",
   "metadata": {},
   "outputs": [],
   "source": [
    "# get_feature_importances(RandomForest, \"preprocessor\", \"rf\")"
   ]
  },
  {
   "cell_type": "code",
   "execution_count": 482,
   "id": "442ae60f",
   "metadata": {},
   "outputs": [
    {
     "data": {
      "image/png": "[encoded data removed]",
      "text/plain": [
       "<Figure size 1200x500 with 1 Axes>"
      ]
     },
     "metadata": {},
     "output_type": "display_data"
    }
   ],
   "source": [
    "get_feature_importances(xgb_pipe, \"preprocessor\", \"xgb\")"
   ]
  },
  {
   "cell_type": "markdown",
   "id": "d981bc24",
   "metadata": {},
   "source": [
    "## OPTIMISATION\n"
   ]
  },
  {
   "cell_type": "code",
   "execution_count": 483,
   "id": "1f9355dc",
   "metadata": {},
   "outputs": [],
   "source": [
    "from sklearn.model_selection import GridSearchCV, RandomizedSearchCV"
   ]
  },
  {
   "cell_type": "code",
   "execution_count": 484,
   "id": "7af1825e",
   "metadata": {},
   "outputs": [],
   "source": [
    "hyper_params = {'rf__n_estimators' : [500, 1000],\n",
    "                \"rf__max_depth\": [None, 8, 12, 16, 20],\n",
    "                \"rf__min_samples_split\": [2, 5, 10],\n",
    "                \"rf__min_samples_leaf\": [1, 5, 10, 20, 30],\n",
    "                \"rf__max_features\": [\"sqrt\", 0.5, None],\n",
    "                \"rf__class_weight\": [\"balanced\", \"balanced_subsample\"],\n",
    "                'preprocessor__selectkbest__k':range(4, 10),\n",
    "                }"
   ]
  },
  {
   "cell_type": "code",
   "execution_count": 485,
   "id": "874dc4ec",
   "metadata": {},
   "outputs": [],
   "source": [
    "hyper_params_XGB = {\n",
    "    # Complexité du modèle\n",
    "    \"xgb__subsample\": [0.8, 0.9],\n",
    "    \"xgb__reg_lambda\": [8, 9, 10],\n",
    "    \"xgb__reg_alpha\": [0.5, 0.6],\n",
    "    \"xgb__n_estimators\": [1040, 1050],  # gros nombre + early stopping\n",
    "    \"xgb__min_child_weight\": [2, 3, 4],\n",
    "    \"xgb__max_depth\": [5],\n",
    "    \"xgb__max_delta_step\" :[2],\n",
    "    \"xgb__learning_rate\": [0.010, 0.015, 0.02],\n",
    "    \"xgb__gamma\": [0.9, 1, 1.1, 1.2],\n",
    "    \"xgb__colsample_bytree\": [0.8, 0.9, 1.0],\n",
    "    'preprocessor__selectkbest__k':[\"all\", 6, 10],\n",
    "    # \"preprocessor__columntransformer__poly__degree\": [2, 3, 4],\n",
    "    \"preprocessor__columntransformer__tgt__m\": [2, 5, 10, 20]\n",
    "}\n"
   ]
  },
  {
   "cell_type": "code",
   "execution_count": 486,
   "id": "7db24780",
   "metadata": {},
   "outputs": [
    {
     "name": "stdout",
     "output_type": "stream",
     "text": [
      "{'xgb__subsample': 0.8, 'xgb__reg_lambda': 9, 'xgb__reg_alpha': 0.6, 'xgb__n_estimators': 1040, 'xgb__min_child_weight': 2, 'xgb__max_depth': 5, 'xgb__max_delta_step': 2, 'xgb__learning_rate': 0.02, 'xgb__gamma': 1.2, 'xgb__colsample_bytree': 1.0, 'preprocessor__selectkbest__k': 'all', 'preprocessor__columntransformer__tgt__m': 10}\n",
      "              precision    recall  f1-score   support\n",
      "\n",
      "           0       0.89      0.95      0.92     22595\n",
      "           1       0.74      0.55      0.63      6121\n",
      "\n",
      "    accuracy                           0.86     28716\n",
      "   macro avg       0.81      0.75      0.77     28716\n",
      "weighted avg       0.85      0.86      0.85     28716\n",
      "\n"
     ]
    }
   ],
   "source": [
    "grid = RandomizedSearchCV(xgb_pipe, hyper_params_XGB, scoring='f1', cv=5 ,n_jobs=4, n_iter=500) #n_iter=120\n",
    "grid.fit(X_train, y_train)\n",
    "print(grid.best_params_)\n",
    "y_pred = grid.predict(X_test)\n",
    "print(classification_report(y_test, y_pred))"
   ]
  },
  {
   "cell_type": "code",
   "execution_count": 487,
   "id": "b81982b9",
   "metadata": {},
   "outputs": [
    {
     "name": "stdout",
     "output_type": "stream",
     "text": [
      "[[21377  1218]\n",
      " [ 2741  3380]]\n",
      "              precision    recall  f1-score   support\n",
      "\n",
      "           0       0.89      0.95      0.92     22595\n",
      "           1       0.74      0.55      0.63      6121\n",
      "\n",
      "    accuracy                           0.86     28716\n",
      "   macro avg       0.81      0.75      0.77     28716\n",
      "weighted avg       0.85      0.86      0.85     28716\n",
      "\n"
     ]
    },
    {
     "data": {
      "image/png": "[encoded data removed]",
      "text/plain": [
       "<Figure size 1200x800 with 1 Axes>"
      ]
     },
     "metadata": {},
     "output_type": "display_data"
    }
   ],
   "source": [
    "evaluation(grid.best_estimator_)"
   ]
  },
  {
   "cell_type": "markdown",
   "id": "278ad859",
   "metadata": {},
   "source": [
    "### Precision Recall Curve"
   ]
  },
  {
   "cell_type": "code",
   "execution_count": 488,
   "id": "36cf497b",
   "metadata": {},
   "outputs": [],
   "source": [
    "from sklearn.metrics import precision_recall_curve"
   ]
  },
  {
   "cell_type": "code",
   "execution_count": 489,
   "id": "30ccbdf0",
   "metadata": {},
   "outputs": [],
   "source": [
    "precision, recall, threshold = precision_recall_curve(y_train, grid.best_estimator_.predict_proba(X_train)[:, 1])"
   ]
  },
  {
   "cell_type": "code",
   "execution_count": 490,
   "id": "a5e9978c",
   "metadata": {},
   "outputs": [
    {
     "data": {
      "image/png": "[encoded data removed]",
      "text/plain": [
       "<Figure size 640x480 with 1 Axes>"
      ]
     },
     "metadata": {},
     "output_type": "display_data"
    }
   ],
   "source": [
    "plt.plot(threshold, precision[:-1], label='precision')\n",
    "plt.plot(threshold, recall[:-1], label='recall')\n",
    "plt.legend\n",
    "plt.show()"
   ]
  },
  {
   "cell_type": "code",
   "execution_count": 491,
   "id": "6c164a9c",
   "metadata": {},
   "outputs": [],
   "source": [
    "def best_f1(model):\n",
    "    best_t, best_f1 = 0, 0\n",
    "    proba = model.predict_proba(X_train)[:, 1]\n",
    "    for t in np.linspace(0.2, 0.8, 60):\n",
    "        preds = (proba > t).astype(int)\n",
    "        score = f1_score(y_train, preds)\n",
    "        if score > best_f1:\n",
    "            best_f1, best_t = score, t\n",
    "\n",
    "    best_threshold = best_t\n",
    "    print(\"Best threshold:\", best_t, \"F1:\", best_f1)\n",
    "    return best_threshold"
   ]
  },
  {
   "cell_type": "code",
   "execution_count": 492,
   "id": "a46d0eed",
   "metadata": {},
   "outputs": [
    {
     "name": "stdout",
     "output_type": "stream",
     "text": [
      "Best threshold: 0.34237288135593225 F1: 0.6819344524380495\n"
     ]
    }
   ],
   "source": [
    "best_threshold = best_f1(grid.best_estimator_)\n"
   ]
  },
  {
   "cell_type": "code",
   "execution_count": 493,
   "id": "34af0f1a",
   "metadata": {},
   "outputs": [],
   "source": [
    "def model_final(model, X, threshold=0.5):\n",
    "    proba = model.predict_proba(X)[:, 1]  # proba classe positive\n",
    "    return (proba > threshold).astype(int)"
   ]
  },
  {
   "cell_type": "code",
   "execution_count": 494,
   "id": "d98823d3",
   "metadata": {},
   "outputs": [],
   "source": [
    "best_model = grid.best_estimator_\n",
    "# best_model.fit(X_train, y_train)\n",
    "y_pred_test = model_final(best_model, X_test, threshold=best_threshold)"
   ]
  },
  {
   "cell_type": "code",
   "execution_count": 495,
   "id": "bb55b78a",
   "metadata": {},
   "outputs": [
    {
     "data": {
      "text/plain": [
       "0.6600460792881544"
      ]
     },
     "execution_count": 495,
     "metadata": {},
     "output_type": "execute_result"
    }
   ],
   "source": [
    "f1_score(y_test, y_pred_test)"
   ]
  },
  {
   "cell_type": "markdown",
   "id": "6022187a",
   "metadata": {},
   "source": [
    "### Entraînement sur le dataset complet"
   ]
  },
  {
   "cell_type": "code",
   "execution_count": 496,
   "id": "e0b68ea8",
   "metadata": {},
   "outputs": [
    {
     "name": "stdout",
     "output_type": "stream",
     "text": [
      "Exited\n",
      "0    113129\n",
      "1     30450\n",
      "Name: count, dtype: int64\n"
     ]
    }
   ],
   "source": [
    "df = pd.read_csv('data/train_data.csv')\n",
    "df = df[key_columns + utils_columns]\n",
    "X_df, y_df = preprocessing(df)"
   ]
  },
  {
   "cell_type": "code",
   "execution_count": 497,
   "id": "cbe60726",
   "metadata": {},
   "outputs": [],
   "source": [
    "final_model = grid.best_estimator_\n",
    "final_model.fit(X_df, y_df)   # <--- refit ici\n",
    "\n",
    "y_pred_df = model_final(final_model, X_df, threshold=best_threshold)"
   ]
  },
  {
   "cell_type": "code",
   "execution_count": 498,
   "id": "fb28fcba",
   "metadata": {},
   "outputs": [
    {
     "data": {
      "text/plain": [
       "0.6783317353787153"
      ]
     },
     "execution_count": 498,
     "metadata": {},
     "output_type": "execute_result"
    }
   ],
   "source": [
    "f1_score(y_df, y_pred_df)"
   ]
  },
  {
   "cell_type": "markdown",
   "id": "664091cf",
   "metadata": {},
   "source": [
    "## Prediction kaggle"
   ]
  },
  {
   "cell_type": "code",
   "execution_count": 499,
   "id": "19875afe",
   "metadata": {},
   "outputs": [],
   "source": [
    "df_kaggle = pd.read_csv('data/test_data.csv')"
   ]
  },
  {
   "cell_type": "code",
   "execution_count": 500,
   "id": "4b55fa31",
   "metadata": {},
   "outputs": [],
   "source": [
    "id_col = \"ID\"          \n",
    "test_ids = df_kaggle[id_col].copy()"
   ]
  },
  {
   "cell_type": "code",
   "execution_count": 501,
   "id": "aaef127e",
   "metadata": {},
   "outputs": [],
   "source": [
    "def preprocessing_kaggle(df):\n",
    "    df = feature_engineering(df)\n",
    "    X = df\n",
    "    return X"
   ]
  },
  {
   "cell_type": "code",
   "execution_count": 502,
   "id": "4f48f0dd",
   "metadata": {},
   "outputs": [],
   "source": [
    "X_kaggle = preprocessing_kaggle(df_kaggle)"
   ]
  },
  {
   "cell_type": "code",
   "execution_count": 503,
   "id": "2c9ffe37",
   "metadata": {},
   "outputs": [],
   "source": [
    "y_pred_kaggle = model_final(best_model, X_kaggle, threshold=best_threshold)"
   ]
  },
  {
   "cell_type": "code",
   "execution_count": 504,
   "id": "527a9fdc",
   "metadata": {},
   "outputs": [],
   "source": [
    "results = pd.DataFrame(\n",
    "    {\n",
    "        id_col: test_ids,\n",
    "        \"Exited\": y_pred_kaggle\n",
    "    }\n",
    ")"
   ]
  },
  {
   "cell_type": "code",
   "execution_count": 505,
   "id": "97b9350d",
   "metadata": {},
   "outputs": [],
   "source": [
    "results.to_csv(\"predictions.csv\", index=False)"
   ]
  }
 ],
 "metadata": {
  "kernelspec": {
   "display_name": "bankchurn-v2-py3.13",
   "language": "python",
   "name": "python3"
  },
  "language_info": {
   "codemirror_mode": {
    "name": "ipython",
    "version": 3
   },
   "file_extension": ".py",
   "mimetype": "text/x-python",
   "name": "python",
   "nbconvert_exporter": "python",
   "pygments_lexer": "ipython3",
   "version": "3.13.5"
  }
 },
 "nbformat": 4,
 "nbformat_minor": 5
}
